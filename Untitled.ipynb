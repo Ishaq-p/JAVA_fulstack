{
 "cells": [
  {
   "cell_type": "code",
   "execution_count": 23,
   "id": "14340028",
   "metadata": {},
   "outputs": [],
   "source": [
    "import pandas as pd\n",
    "import numpy as np\n",
    "import random"
   ]
  },
  {
   "cell_type": "code",
   "execution_count": 5,
   "id": "e173f4c0",
   "metadata": {},
   "outputs": [
    {
     "name": "stdout",
     "output_type": "stream",
     "text": [
      "\u001b[0m\u001b[01;34mbin\u001b[0m/              \u001b[01;34mlib\u001b[0m/                   README.md  Untitled.ipynb\r\n",
      "Contact_Info.csv  Personal_Info_All.csv  \u001b[01;34msrc\u001b[0m/\r\n"
     ]
    }
   ],
   "source": [
    "ls"
   ]
  },
  {
   "cell_type": "code",
   "execution_count": 16,
   "id": "7de633a0",
   "metadata": {},
   "outputs": [
    {
     "data": {
      "text/html": [
       "<div>\n",
       "<style scoped>\n",
       "    .dataframe tbody tr th:only-of-type {\n",
       "        vertical-align: middle;\n",
       "    }\n",
       "\n",
       "    .dataframe tbody tr th {\n",
       "        vertical-align: top;\n",
       "    }\n",
       "\n",
       "    .dataframe thead th {\n",
       "        text-align: right;\n",
       "    }\n",
       "</style>\n",
       "<table border=\"1\" class=\"dataframe\">\n",
       "  <thead>\n",
       "    <tr style=\"text-align: right;\">\n",
       "      <th></th>\n",
       "      <th>customerID</th>\n",
       "      <th>fulname</th>\n",
       "      <th>Gender</th>\n",
       "      <th>Nationality</th>\n",
       "      <th>DOB</th>\n",
       "      <th>password</th>\n",
       "      <th>email</th>\n",
       "      <th>username</th>\n",
       "    </tr>\n",
       "  </thead>\n",
       "  <tbody>\n",
       "    <tr>\n",
       "      <th>0</th>\n",
       "      <td>PB-119101</td>\n",
       "      <td>Paige Bennett</td>\n",
       "      <td>Female</td>\n",
       "      <td>Ghana</td>\n",
       "      <td>1991-06-11</td>\n",
       "      <td>NaN</td>\n",
       "      <td>paigebennett44@outlook.com</td>\n",
       "      <td>@Paige30</td>\n",
       "    </tr>\n",
       "    <tr>\n",
       "      <th>1</th>\n",
       "      <td>MSH-030101</td>\n",
       "      <td>Mrs. Shannon Hill</td>\n",
       "      <td>Female</td>\n",
       "      <td>Aruba</td>\n",
       "      <td>2001-01-03</td>\n",
       "      <td>NaN</td>\n",
       "      <td>mrs.hill34@gmail.com</td>\n",
       "      <td>@Mrs.80</td>\n",
       "    </tr>\n",
       "  </tbody>\n",
       "</table>\n",
       "</div>"
      ],
      "text/plain": [
       "   customerID            fulname  Gender Nationality         DOB  password  \\\n",
       "0   PB-119101      Paige Bennett  Female       Ghana  1991-06-11       NaN   \n",
       "1  MSH-030101  Mrs. Shannon Hill  Female       Aruba  2001-01-03       NaN   \n",
       "\n",
       "                        email  username  \n",
       "0  paigebennett44@outlook.com  @Paige30  \n",
       "1        mrs.hill34@gmail.com   @Mrs.80  "
      ]
     },
     "execution_count": 16,
     "metadata": {},
     "output_type": "execute_result"
    }
   ],
   "source": [
    "CustomerInfo = pd.concat([pd.read_csv(\"Personal_Info_All.csv\"), pd.read_csv(\"Contact_Info.csv\")], axis=1)\n",
    "CustomerInfo.head(2)"
   ]
  },
  {
   "cell_type": "code",
   "execution_count": null,
   "id": "a7fa34d1",
   "metadata": {},
   "outputs": [],
   "source": []
  },
  {
   "cell_type": "code",
   "execution_count": 18,
   "id": "95e35897",
   "metadata": {},
   "outputs": [
    {
     "data": {
      "text/html": [
       "<div>\n",
       "<style scoped>\n",
       "    .dataframe tbody tr th:only-of-type {\n",
       "        vertical-align: middle;\n",
       "    }\n",
       "\n",
       "    .dataframe tbody tr th {\n",
       "        vertical-align: top;\n",
       "    }\n",
       "\n",
       "    .dataframe thead th {\n",
       "        text-align: right;\n",
       "    }\n",
       "</style>\n",
       "<table border=\"1\" class=\"dataframe\">\n",
       "  <thead>\n",
       "    <tr style=\"text-align: right;\">\n",
       "      <th></th>\n",
       "      <th>planeID</th>\n",
       "      <th>planModel</th>\n",
       "      <th>capacity</th>\n",
       "      <th>Eco_seats</th>\n",
       "    </tr>\n",
       "  </thead>\n",
       "  <tbody>\n",
       "    <tr>\n",
       "      <th>0</th>\n",
       "      <td>ABC123</td>\n",
       "      <td>Boeing 737</td>\n",
       "      <td>150</td>\n",
       "      <td>120</td>\n",
       "    </tr>\n",
       "    <tr>\n",
       "      <th>1</th>\n",
       "      <td>DEF456</td>\n",
       "      <td>Airbus A320</td>\n",
       "      <td>180</td>\n",
       "      <td>150</td>\n",
       "    </tr>\n",
       "  </tbody>\n",
       "</table>\n",
       "</div>"
      ],
      "text/plain": [
       "  planeID    planModel  capacity  Eco_seats\n",
       "0  ABC123   Boeing 737       150        120\n",
       "1  DEF456  Airbus A320       180        150"
      ]
     },
     "execution_count": 18,
     "metadata": {},
     "output_type": "execute_result"
    }
   ],
   "source": [
    "planes = pd.DataFrame([('ABC123', 'Boeing 737', 150, 120),\n",
    "('DEF456', 'Airbus A320', 180, 150),\n",
    "('GHI789', 'Boeing 787', 250, 200),\n",
    "('JKL012', 'Airbus A350', 300, 240),\n",
    "('MNO345', 'Embraer E190', 100, 80),\n",
    "('PQR678', 'Bombardier CRJ900', 80, 60),\n",
    "('STU901', 'Boeing 777', 350, 280),\n",
    "('VWX234', 'Airbus A380', 500, 400)\n",
    "], columns=['planeID', 'planModel', 'capacity', 'Eco_seats'])\n",
    "\n",
    "planes.head(2)"
   ]
  },
  {
   "cell_type": "code",
   "execution_count": 22,
   "id": "a3858e5c",
   "metadata": {},
   "outputs": [
    {
     "data": {
      "text/html": [
       "<div>\n",
       "<style scoped>\n",
       "    .dataframe tbody tr th:only-of-type {\n",
       "        vertical-align: middle;\n",
       "    }\n",
       "\n",
       "    .dataframe tbody tr th {\n",
       "        vertical-align: top;\n",
       "    }\n",
       "\n",
       "    .dataframe thead th {\n",
       "        text-align: right;\n",
       "    }\n",
       "</style>\n",
       "<table border=\"1\" class=\"dataframe\">\n",
       "  <thead>\n",
       "    <tr style=\"text-align: right;\">\n",
       "      <th></th>\n",
       "      <th>flightID</th>\n",
       "      <th>from_</th>\n",
       "      <th>to_</th>\n",
       "      <th>planeID</th>\n",
       "      <th>departureTime</th>\n",
       "      <th>flightDuration</th>\n",
       "      <th>E_seatsLeft</th>\n",
       "      <th>B_seatsLeft</th>\n",
       "      <th>destinationType</th>\n",
       "    </tr>\n",
       "  </thead>\n",
       "  <tbody>\n",
       "    <tr>\n",
       "      <th>0</th>\n",
       "      <td>FLIGHT001</td>\n",
       "      <td>IST</td>\n",
       "      <td>JFK</td>\n",
       "      <td>ABC123</td>\n",
       "      <td>2024-05-03 08:00:00</td>\n",
       "      <td>720</td>\n",
       "      <td>120</td>\n",
       "      <td>30</td>\n",
       "      <td>International</td>\n",
       "    </tr>\n",
       "    <tr>\n",
       "      <th>1</th>\n",
       "      <td>FLIGHT002</td>\n",
       "      <td>JFK</td>\n",
       "      <td>IST</td>\n",
       "      <td>ABC123</td>\n",
       "      <td>2024-05-03 10:00:00</td>\n",
       "      <td>720</td>\n",
       "      <td>120</td>\n",
       "      <td>30</td>\n",
       "      <td>International</td>\n",
       "    </tr>\n",
       "    <tr>\n",
       "      <th>2</th>\n",
       "      <td>FLIGHT003</td>\n",
       "      <td>IST</td>\n",
       "      <td>LHR</td>\n",
       "      <td>DEF456</td>\n",
       "      <td>2024-05-03 12:00:00</td>\n",
       "      <td>180</td>\n",
       "      <td>150</td>\n",
       "      <td>30</td>\n",
       "      <td>International</td>\n",
       "    </tr>\n",
       "  </tbody>\n",
       "</table>\n",
       "</div>"
      ],
      "text/plain": [
       "    flightID from_  to_ planeID        departureTime  flightDuration  \\\n",
       "0  FLIGHT001   IST  JFK  ABC123  2024-05-03 08:00:00             720   \n",
       "1  FLIGHT002   JFK  IST  ABC123  2024-05-03 10:00:00             720   \n",
       "2  FLIGHT003   IST  LHR  DEF456  2024-05-03 12:00:00             180   \n",
       "\n",
       "   E_seatsLeft  B_seatsLeft destinationType  \n",
       "0          120           30   International  \n",
       "1          120           30   International  \n",
       "2          150           30   International  "
      ]
     },
     "execution_count": 22,
     "metadata": {},
     "output_type": "execute_result"
    }
   ],
   "source": [
    "flights = pd.DataFrame([('FLIGHT001', 'IST', 'JFK', 'ABC123', '2024-05-03 08:00:00', 720, 120, 30, 'International'),\n",
    "('FLIGHT002', 'JFK', 'IST', 'ABC123', '2024-05-03 10:00:00', 720, 120, 30, 'International'),\n",
    "('FLIGHT003', 'IST', 'LHR', 'DEF456', '2024-05-03 12:00:00', 180, 150, 30, 'International'),\n",
    "('FLIGHT004', 'LHR', 'IST', 'DEF456', '2024-05-03 14:00:00', 180, 150, 30, 'International'),\n",
    "('FLIGHT005', 'IST', 'CDG', 'GHI789', '2024-05-03 16:00:00', 240, 200, 50, 'International'),\n",
    "('FLIGHT006', 'CDG', 'IST', 'GHI789', '2024-05-03 18:00:00', 240, 200, 50, 'International'),\n",
    "('FLIGHT007', 'IST', 'FRA', 'JKL012', '2024-05-03 20:00:00', 240, 240, 60, 'International'),\n",
    "('FLIGHT008', 'FRA', 'IST', 'JKL012', '2024-05-03 22:00:00', 240, 240, 60, 'International'),\n",
    "('FLIGHT009', 'IST', 'MUC', 'MNO345', '2024-05-04 08:00:00', 120, 80, 20, 'International'),\n",
    "('FLIGHT010', 'MUC', 'IST', 'MNO345', '2024-05-04 10:00:00', 120, 80, 20, 'International'),\n",
    "('FLIGHT011', 'IST', 'BCN', 'PQR678', '2024-05-04 12:00:00', 180, 60, 20, 'International'),\n",
    "('FLIGHT012', 'BCN', 'IST', 'PQR678', '2024-05-04 14:00:00', 180, 60, 20, 'International'),\n",
    "('FLIGHT013', 'IST', 'LAX', 'STU901', '2024-05-04 16:00:00', 840, 280, 70, 'International'),\n",
    "('FLIGHT014', 'LAX', 'IST', 'STU901', '2024-05-04 18:00:00', 840, 280, 70, 'International'),\n",
    "('FLIGHT015', 'IST', 'SYD', 'VWX234', '2024-05-04 20:00:00', 1020, 400, 100, 'International'),\n",
    "('FLIGHT016', 'SYD', 'IST', 'VWX234', '2024-05-04 22:00:00', 1020, 400, 100, 'International'),\n",
    "('TK001', 'IST', 'ANK', 'ABC123', '2024-05-03 08:00:00', 60, 120, 30, 'Domestic'),\n",
    "('TK002', 'ANK', 'IST', 'ABC123', '2024-05-03 10:00:00', 60, 120, 30, 'Domestic'),\n",
    "('TK003', 'IST', 'ADA', 'DEF456', '2024-05-03 12:00:00', 90, 150, 30, 'Domestic'),\n",
    "('TK004', 'ADA', 'IST', 'DEF456', '2024-05-03 14:00:00', 90, 150, 30, 'Domestic'),\n",
    "('TK005', 'IST', 'ESB', 'GHI789', '2024-05-03 16:00:00', 120, 200, 50, 'Domestic'),\n",
    "('TK006', 'ESB', 'IST', 'GHI789', '2024-05-03 18:00:00', 120, 200, 50, 'Domestic'),\n",
    "('TK007', 'IST', 'DLM', 'JKL012', '2024-05-03 20:00:00', 90, 240, 60, 'Domestic'),\n",
    "('TK008', 'DLM', 'IST', 'JKL012', '2024-05-03 22:00:00', 90, 240, 60, 'Domestic'),\n",
    "('TK009', 'IST', 'AYT', 'MNO345', '2024-05-04 08:00:00', 60, 80, 20, 'Domestic'),\n",
    "('TK010', 'AYT', 'IST', 'MNO345', '2024-05-04 10:00:00', 60, 80, 20, 'Domestic'),\n",
    "('TK011', 'IST', 'VAS', 'PQR678', '2024-05-04 12:00:00', 120, 60, 20, 'Domestic'),\n",
    "('TK012', 'VAS', 'IST', 'PQR678', '2024-05-04 14:00:00', 120, 60, 20, 'Domestic'),\n",
    "('TK013', 'IST', 'ADA', 'STU901', '2024-05-04 16:00:00', 90, 280, 70, 'Domestic'),\n",
    "('TK014', 'ADA', 'IST', 'STU901', '2024-05-04 18:00:00', 90, 280, 70, 'Domestic'),\n",
    "('TK015', 'IST', 'TZX', 'VWX234', '2024-05-04 20:00:00', 150, 400, 100, 'Domestic'),\n",
    "('TK016', 'TZX', 'IST', 'VWX234', '2024-05-04 22:00:00', 150, 400, 100, 'Domestic'),\n",
    "('TK017', 'IST', 'SZF', 'ABC123', '2024-05-05 08:00:00', 90, 120, 30, 'Domestic'),\n",
    "('TK018', 'SZF', 'IST', 'ABC123', '2024-05-05 10:00:00', 90, 120, 30, 'Domestic'),\n",
    "('TK019', 'IST', 'EZS', 'DEF456', '2024-05-05 12:00:00', 120, 150, 30, 'Domestic'),\n",
    "('TK020', 'EZS', 'IST', 'DEF456', '2024-05-05 14:00:00', 120, 150, 30, 'Domestic')\n",
    "], columns=['flightID', 'from_', 'to_', 'planeID', 'departureTime', 'flightDuration', 'E_seatsLeft', 'B_seatsLeft', 'destinationType'])\n",
    "\n",
    "flights.head(3)"
   ]
  },
  {
   "cell_type": "code",
   "execution_count": null,
   "id": "87b9e69e",
   "metadata": {},
   "outputs": [],
   "source": []
  },
  {
   "cell_type": "code",
   "execution_count": 35,
   "id": "f49482b5",
   "metadata": {},
   "outputs": [],
   "source": [
    "def generate_rnd(x):\n",
    "    return random.choice(x)"
   ]
  },
  {
   "cell_type": "code",
   "execution_count": 47,
   "id": "c4eaa821",
   "metadata": {
    "scrolled": true
   },
   "outputs": [
    {
     "name": "stdout",
     "output_type": "stream",
     "text": [
      "('SH-109501', 'TK011', 1)\n",
      "('CC-209301', 'FLIGHT008', 0)\n",
      "('KV-139901', 'TK010', 1)\n",
      "('DC-269301', 'FLIGHT006', 0)\n",
      "('MR-289501', 'FLIGHT016', 1)\n",
      "('MT-060201', 'FLIGHT003', 0)\n",
      "('CC-099901', 'TK009', 0)\n",
      "('AM-160201', 'TK001', 0)\n",
      "('KM-299501', 'TK001', 1)\n",
      "('MJ-209901', 'FLIGHT007', 0)\n",
      "('GR-229401', 'FLIGHT002', 0)\n",
      "('MKM-079601', 'TK014', 0)\n",
      "('MH-300101', 'TK007', 0)\n",
      "('EWM-019901', 'FLIGHT005', 1)\n",
      "('HK-050001', 'TK016', 0)\n",
      "('DC-020201', 'TK008', 0)\n",
      "('TH-239701', 'TK020', 0)\n",
      "('SB-219101', 'FLIGHT004', 0)\n",
      "('DT-219701', 'TK014', 0)\n",
      "('ER-049801', 'TK005', 1)\n",
      "('MH-289301', 'FLIGHT016', 1)\n",
      "('AM-179501', 'FLIGHT003', 0)\n",
      "('JC-139401', 'FLIGHT015', 0)\n",
      "('JB-040401', 'TK004', 1)\n",
      "('MZ-079101', 'TK013', 0)\n",
      "('AB-120001', 'TK010', 1)\n",
      "('LS-049401', 'FLIGHT015', 0)\n",
      "('LV-039701', 'TK018', 0)\n",
      "('BM-039901', 'TK010', 0)\n",
      "('CA-029601', 'TK017', 0)\n",
      "('SB-259201', 'TK001', 1)\n",
      "('VW-309501', 'FLIGHT002', 0)\n",
      "('LF-269701', 'TK013', 0)\n",
      "('MW-279101', 'TK018', 1)\n",
      "('SW-049601', 'TK010', 0)\n",
      "('HG-309501', 'TK001', 0)\n",
      "('CK-059201', 'FLIGHT015', 0)\n",
      "('BT-029501', 'TK015', 1)\n",
      "('MS-110301', 'TK005', 1)\n",
      "('EJ-180401', 'FLIGHT007', 0)\n",
      "('CS-279801', 'TK003', 0)\n",
      "('MC-010101', 'FLIGHT014', 0)\n",
      "('AK-169401', 'TK005', 1)\n",
      "('FJ-049801', 'TK006', 0)\n",
      "('CN-019801', 'TK005', 0)\n",
      "('MK-229901', 'TK009', 0)\n",
      "('JS-289901', 'TK003', 1)\n",
      "('EG-059601', 'TK005', 0)\n",
      "('BC-250301', 'FLIGHT016', 0)\n",
      "('CR-099901', 'FLIGHT011', 0)\n",
      "('SP-179701', 'FLIGHT008', 0)\n",
      "('SS-199201', 'FLIGHT011', 1)\n",
      "('LP-259801', 'FLIGHT003', 0)\n",
      "('SN-209601', 'TK018', 0)\n",
      "('ER-090301', 'TK006', 0)\n",
      "('JG-039301', 'TK008', 0)\n",
      "('KR-140301', 'TK011', 0)\n",
      "('AS-239802', 'TK003', 0)\n",
      "('AS-050201', 'TK020', 0)\n",
      "('SM-110401', 'FLIGHT007', 0)\n",
      "('SP-119501', 'TK019', 0)\n",
      "('BB-300001', 'TK020', 0)\n",
      "('AJM-219501', 'FLIGHT006', 1)\n",
      "('LW-189701', 'TK011', 0)\n",
      "('TT-069401', 'TK010', 0)\n",
      "('CH-170001', 'FLIGHT001', 1)\n",
      "('MB-299801', 'FLIGHT013', 0)\n",
      "('MS-110001', 'TK003', 0)\n",
      "('TM-059901', 'TK010', 0)\n",
      "('PB-319901', 'TK012', 1)\n",
      "('JR-099201', 'FLIGHT007', 0)\n",
      "('SF-110401', 'FLIGHT004', 0)\n",
      "('VY-039301', 'TK017', 0)\n",
      "('TG-140401', 'FLIGHT002', 1)\n",
      "('KW-280201', 'TK011', 0)\n",
      "('BM-050001', 'FLIGHT007', 0)\n",
      "('ED-130001', 'TK009', 1)\n",
      "('KS-069501', 'TK009', 0)\n",
      "('PW-039901', 'FLIGHT013', 0)\n",
      "('RD-259801', 'TK012', 0)\n",
      "('AB-049101', 'FLIGHT009', 0)\n",
      "('KH-259601', 'FLIGHT006', 1)\n",
      "('KW-280202', 'FLIGHT007', 0)\n",
      "('BS-010401', 'FLIGHT004', 1)\n",
      "('TC-310101', 'TK011', 1)\n",
      "('JR-139401', 'TK011', 0)\n",
      "('JR-029401', 'TK013', 0)\n",
      "('JA-230201', 'FLIGHT005', 0)\n",
      "('RR-090101', 'TK017', 0)\n",
      "('AO-039201', 'TK002', 0)\n",
      "('AB-140101', 'FLIGHT007', 1)\n",
      "('MG-059501', 'TK007', 1)\n",
      "('KW-030101', 'TK019', 1)\n",
      "('RS-119701', 'FLIGHT009', 1)\n",
      "('HS-169601', 'FLIGHT002', 0)\n",
      "('ME-059601', 'FLIGHT006', 0)\n",
      "('BW-249901', 'TK007', 1)\n",
      "('KS-029501', 'TK009', 1)\n",
      "('AD-049301', 'TK010', 0)\n",
      "('CM-010001', 'TK012', 0)\n"
     ]
    }
   ],
   "source": [
    "flightCUS = []\n",
    "user = []\n",
    "while len(user)!=100:\n",
    "    dataRow = (generate_rnd(CustomerInfo['customerID']),\n",
    "        generate_rnd(flights['flightID']),\n",
    "        generate_rnd([0,0,0,0,0,0,0,1,1,1]))\n",
    "    if dataRow[0] not in user:\n",
    "        user.append(dataRow[0])\n",
    "        flightCUS.append(dataRow)\n",
    "        print(dataRow)"
   ]
  },
  {
   "cell_type": "code",
   "execution_count": 48,
   "id": "ca993f4e",
   "metadata": {},
   "outputs": [
    {
     "data": {
      "text/plain": [
       "(100, 100)"
      ]
     },
     "execution_count": 48,
     "metadata": {},
     "output_type": "execute_result"
    }
   ],
   "source": [
    "len(user), len(list(set(user)))"
   ]
  },
  {
   "cell_type": "code",
   "execution_count": 51,
   "id": "89a83ee4",
   "metadata": {},
   "outputs": [
    {
     "data": {
      "text/html": [
       "<div>\n",
       "<style scoped>\n",
       "    .dataframe tbody tr th:only-of-type {\n",
       "        vertical-align: middle;\n",
       "    }\n",
       "\n",
       "    .dataframe tbody tr th {\n",
       "        vertical-align: top;\n",
       "    }\n",
       "\n",
       "    .dataframe thead th {\n",
       "        text-align: right;\n",
       "    }\n",
       "</style>\n",
       "<table border=\"1\" class=\"dataframe\">\n",
       "  <thead>\n",
       "    <tr style=\"text-align: right;\">\n",
       "      <th></th>\n",
       "      <th>customerID</th>\n",
       "      <th>flightID</th>\n",
       "      <th>class_E</th>\n",
       "    </tr>\n",
       "  </thead>\n",
       "  <tbody>\n",
       "    <tr>\n",
       "      <th>0</th>\n",
       "      <td>SH-109501</td>\n",
       "      <td>TK011</td>\n",
       "      <td>1</td>\n",
       "    </tr>\n",
       "    <tr>\n",
       "      <th>1</th>\n",
       "      <td>CC-209301</td>\n",
       "      <td>FLIGHT008</td>\n",
       "      <td>0</td>\n",
       "    </tr>\n",
       "    <tr>\n",
       "      <th>2</th>\n",
       "      <td>KV-139901</td>\n",
       "      <td>TK010</td>\n",
       "      <td>1</td>\n",
       "    </tr>\n",
       "  </tbody>\n",
       "</table>\n",
       "</div>"
      ],
      "text/plain": [
       "  customerID   flightID  class_E\n",
       "0  SH-109501      TK011        1\n",
       "1  CC-209301  FLIGHT008        0\n",
       "2  KV-139901      TK010        1"
      ]
     },
     "execution_count": 51,
     "metadata": {},
     "output_type": "execute_result"
    }
   ],
   "source": [
    "FlightCustomers = pd.DataFrame(flightCUS, columns=[\"customerID\", \"flightID\",\"class_E\"])\n",
    "FlightCustomers.head(3)"
   ]
  },
  {
   "cell_type": "code",
   "execution_count": 62,
   "id": "32d2970d",
   "metadata": {
    "scrolled": true
   },
   "outputs": [
    {
     "data": {
      "text/plain": [
       "60"
      ]
     },
     "execution_count": 62,
     "metadata": {},
     "output_type": "execute_result"
    }
   ],
   "source": [
    "flights.loc[flights[flights['flightID']=='TK011'].index[0], 'E_seatsLeft']"
   ]
  },
  {
   "cell_type": "code",
   "execution_count": null,
   "id": "0d8f3253",
   "metadata": {},
   "outputs": [],
   "source": []
  },
  {
   "cell_type": "markdown",
   "id": "43a8c382",
   "metadata": {},
   "source": [
    "## substracting the new customers from the 'seatsleft'"
   ]
  },
  {
   "cell_type": "code",
   "execution_count": 63,
   "id": "8e55c820",
   "metadata": {
    "scrolled": true
   },
   "outputs": [],
   "source": [
    "\n",
    "# for i in FlightCustomers.iterrows():\n",
    "#     flightID, E_class = i[1][1], i[1][2]\n",
    "#     if E_class:\n",
    "#         flights.loc[flights[flights['flightID']==flightID].index[0], 'E_seatsLeft'] -=1\n",
    "#     else:\n",
    "#         flights.loc[flights[flights['flightID']==flightID].index[0], 'B_seatsLeft'] -=1\n",
    "    "
   ]
  },
  {
   "cell_type": "code",
   "execution_count": 76,
   "id": "4e659a12",
   "metadata": {
    "scrolled": true
   },
   "outputs": [],
   "source": [
    "CustomerInfo.to_csv('CustomerInfo.csv')"
   ]
  },
  {
   "cell_type": "code",
   "execution_count": null,
   "id": "fe83beec",
   "metadata": {},
   "outputs": [],
   "source": []
  },
  {
   "cell_type": "code",
   "execution_count": null,
   "id": "ad3164aa",
   "metadata": {},
   "outputs": [],
   "source": []
  },
  {
   "cell_type": "code",
   "execution_count": null,
   "id": "89389dc5",
   "metadata": {},
   "outputs": [],
   "source": []
  }
 ],
 "metadata": {
  "kernelspec": {
   "display_name": "Python 3 (ipykernel)",
   "language": "python",
   "name": "python3"
  },
  "language_info": {
   "codemirror_mode": {
    "name": "ipython",
    "version": 3
   },
   "file_extension": ".py",
   "mimetype": "text/x-python",
   "name": "python",
   "nbconvert_exporter": "python",
   "pygments_lexer": "ipython3",
   "version": "3.10.12"
  }
 },
 "nbformat": 4,
 "nbformat_minor": 5
}
